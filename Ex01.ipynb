{
  "nbformat": 4,
  "nbformat_minor": 0,
  "metadata": {
    "colab": {
      "provenance": [],
      "authorship_tag": "ABX9TyPLMza1C2uVQRhNjZnGMyrF",
      "include_colab_link": true
    },
    "kernelspec": {
      "name": "python3",
      "display_name": "Python 3"
    },
    "language_info": {
      "name": "python"
    }
  },
  "cells": [
    {
      "cell_type": "markdown",
      "metadata": {
        "id": "view-in-github",
        "colab_type": "text"
      },
      "source": [
        "<a href=\"https://colab.research.google.com/github/Siriwattana2710/project038/blob/main/Ex01.ipynb\" target=\"_parent\"><img src=\"https://colab.research.google.com/assets/colab-badge.svg\" alt=\"Open In Colab\"/></a>"
      ]
    },
    {
      "cell_type": "code",
      "execution_count": null,
      "metadata": {
        "id": "pPYi5UKITjxT"
      },
      "outputs": [],
      "source": [
        "#อบรม python วันที่ 27 พย. 67\n",
        "#654245038 นางสาวศิริวัฒนา รักแตง หมู่เรียน 65/39\n"
      ]
    },
    {
      "cell_type": "code",
      "source": [
        "#ทดสอบรับค่า input\n",
        "name = input (\"กรุณากรอกชื่อ : \")\n",
        "print(\"ยินดีต้อนรับคุณ\"+name)"
      ],
      "metadata": {
        "colab": {
          "base_uri": "https://localhost:8080/"
        },
        "collapsed": true,
        "id": "0-KQr2HGUVhz",
        "outputId": "43d0b6ac-576f-47c3-ac5e-5fb02feb1922"
      },
      "execution_count": 3,
      "outputs": [
        {
          "output_type": "stream",
          "name": "stdout",
          "text": [
            "กรุณากรอกชื่อ : siriwattana\n",
            "ยินดีต้อนรับคุณsiriwattana\n"
          ]
        }
      ]
    },
    {
      "cell_type": "code",
      "source": [
        "#ทดสอบรับค่า มาเพื่อทำการคำนวณ\n",
        "num1 = int (input('ตัวเลขแรก :'))\n",
        "num2 = int (input('ตัวเลขที่สอง :'))\n",
        "total=num1+num2\n",
        "print(\"ผลการบวก เท่ากับ \"+str(total))"
      ],
      "metadata": {
        "colab": {
          "base_uri": "https://localhost:8080/"
        },
        "id": "gS-TfvWpVQ6r",
        "outputId": "3e5e2642-08d1-4a43-eb5e-c3ec9439c122"
      },
      "execution_count": 7,
      "outputs": [
        {
          "output_type": "stream",
          "name": "stdout",
          "text": [
            "ตัวเลขแรก :10\n",
            "ตัวเลขที่สอง :5\n",
            "ผลการบวก เท่ากับ 15\n"
          ]
        }
      ]
    },
    {
      "cell_type": "code",
      "source": [
        "#ให้รับค่า เข้ามาเพื่อคำนวณค่า BMI\n",
        "# Boby Mass Index (BMI) มีสูตรการคำนวณ = น้ำหนักตัว [Kg] / (ส่วนสูง[m] ยกกำลังสอง)\n",
        "#กำหนดรับค่า input น้ำหนักตัว กับ ส่วนสูง\n",
        "weigth = float(input(\"กรุณากรอกค่าน้เำหนัก กิโลกรัม :\"))\n",
        "height = float(input(\"กรุณากรอกค่าส่วนสูง ซม : \"))\n",
        "height = height/100\n",
        "total = weigth / (height*height)\n",
        "print(\"BMI is :  \"+str(total))\n"
      ],
      "metadata": {
        "colab": {
          "base_uri": "https://localhost:8080/"
        },
        "id": "X7zYLiB5Z_gx",
        "outputId": "273b0cee-111e-405c-ca5e-94c31308d8dd"
      },
      "execution_count": 9,
      "outputs": [
        {
          "output_type": "stream",
          "name": "stdout",
          "text": [
            "กรุณากรอกค่าน้เำหนัก กิโลกรัม :95\n",
            "กรุณากรอกค่าส่วนสูง ซม : 170\n",
            "BMI is :  32.871972318339104\n"
          ]
        }
      ]
    },
    {
      "cell_type": "code",
      "source": [
        "W = float(input(\"กรุณากรอกความกว้างของพื้นที่ เมตร :\"))\n",
        "L = float(input(\"กรุณากรอกความยาวของพื้นที่ เมตร :\"))\n",
        "H = float(input(\"กรุณากรอกความหนาของพื้นที่ต้องการ เซนติเมตร :\"))\n",
        "\n",
        "total = W*"
      ],
      "metadata": {
        "id": "VjN0GlPgeoM_"
      },
      "execution_count": null,
      "outputs": []
    },
    {
      "cell_type": "code",
      "source": [
        "a=70\n",
        "b=50\n",
        "if a>b:\n",
        "  print(\"a มากกว่า b\")\n",
        "else:\n",
        "  print(\"a น้อยกว่า b\")"
      ],
      "metadata": {
        "colab": {
          "base_uri": "https://localhost:8080/"
        },
        "id": "Sy64BVCykRUu",
        "outputId": "d7b5e671-da5c-40a9-fb38-44e27425f28a"
      },
      "execution_count": 14,
      "outputs": [
        {
          "output_type": "stream",
          "name": "stdout",
          "text": [
            "a มากกว่า b\n"
          ]
        }
      ]
    },
    {
      "cell_type": "code",
      "source": [
        "#ให้รับค่า เข้ามาเพื่อคำนวณค่า BMI\n",
        "# Boby Mass Index (BMI) มีสูตรการคำนวณ = น้ำหนักตัว [Kg] / (ส่วนสูง[m] ยกกำลังสอง)\n",
        "#กำหนดรับค่า input น้ำหนักตัว กับ ส่วนสูง\n",
        "weigth = float(input(\"กรุณากรอกค่าน้เำหนัก กิโลกรัม :\"))\n",
        "height = float(input(\"กรุณากรอกค่าส่วนสูง ซม : \"))\n",
        "height = height/100\n",
        "total = weigth / (height*height)\n",
        "print(\"BMI is :  \"+str(total))\n"
      ],
      "metadata": {
        "id": "3vDJcJdKlz0U"
      },
      "execution_count": null,
      "outputs": []
    },
    {
      "cell_type": "code",
      "source": [
        "i = 1\n",
        "while i < 7:\n",
        "  print(\"สวัสดี\")\n",
        "  i=i+1"
      ],
      "metadata": {
        "colab": {
          "base_uri": "https://localhost:8080/"
        },
        "id": "vK_ZCi0qsWZ6",
        "outputId": "cce1f21f-8486-489b-b089-c5f947457e41"
      },
      "execution_count": 16,
      "outputs": [
        {
          "output_type": "stream",
          "name": "stdout",
          "text": [
            "สวัสดี\n",
            "สวัสดี\n",
            "สวัสดี\n",
            "สวัสดี\n",
            "สวัสดี\n",
            "สวัสดี\n"
          ]
        }
      ]
    },
    {
      "cell_type": "code",
      "source": [
        "i = 1\n",
        "while i < 20:\n",
        "  print(\"Hello\"+str(i))\n",
        "  if i==7:\n",
        "    break\n",
        "  i=i+1"
      ],
      "metadata": {
        "colab": {
          "base_uri": "https://localhost:8080/"
        },
        "id": "gJYKs1yItGx5",
        "outputId": "349b391b-3d0d-4826-f920-43f2129656f2"
      },
      "execution_count": 18,
      "outputs": [
        {
          "output_type": "stream",
          "name": "stdout",
          "text": [
            "Hello1\n",
            "Hello2\n",
            "Hello3\n",
            "Hello4\n",
            "Hello5\n",
            "Hello6\n",
            "Hello7\n"
          ]
        }
      ]
    },
    {
      "cell_type": "code",
      "source": [
        "for x in range(10):\n",
        "  x=x+1\n",
        "  print(x)"
      ],
      "metadata": {
        "colab": {
          "base_uri": "https://localhost:8080/"
        },
        "id": "zUXV5SQOuqDq",
        "outputId": "b3c562c4-36c2-432a-cd1d-694f76050ba5"
      },
      "execution_count": 27,
      "outputs": [
        {
          "output_type": "stream",
          "name": "stdout",
          "text": [
            "1\n",
            "2\n",
            "3\n",
            "4\n",
            "5\n",
            "6\n",
            "7\n",
            "8\n",
            "9\n",
            "10\n"
          ]
        }
      ]
    },
    {
      "cell_type": "markdown",
      "source": [],
      "metadata": {
        "id": "rOI0LeJyvkky"
      }
    },
    {
      "cell_type": "code",
      "source": [
        "num1=float(input(\"กรุณากรอกแม่สูตรคูณที่ต้องการแสดงผล : \"))\n",
        "i=1\n",
        "print(\"คุณต้องการแสดงแม่สูตรคูณแม่ \"+str(num1))\n",
        "print(\"-----------------------\")\n",
        "for n in range(2, 12):\n",
        "    for i in range(1, 12):\n",
        "      print(f\"{n} * {i} = {n * i}\")\n",
        "    print(\"-\" * 20)\n",
        "print(\"-----------------------\")"
      ],
      "metadata": {
        "colab": {
          "base_uri": "https://localhost:8080/"
        },
        "id": "xtp_t8WlvD9p",
        "outputId": "a95ad7ef-61f8-40e0-dc4b-aa186ea0bd60"
      },
      "execution_count": 30,
      "outputs": [
        {
          "output_type": "stream",
          "name": "stdout",
          "text": [
            "กรุณากรอกแม่สูตรคูณที่ต้องการแสดงผล : 2\n",
            "คุณต้องการแสดงแม่สูตรคูณแม่ 2.0\n",
            "-----------------------\n",
            "2 * 1 = 2\n",
            "2 * 2 = 4\n",
            "2 * 3 = 6\n",
            "2 * 4 = 8\n",
            "2 * 5 = 10\n",
            "2 * 6 = 12\n",
            "2 * 7 = 14\n",
            "2 * 8 = 16\n",
            "2 * 9 = 18\n",
            "2 * 10 = 20\n",
            "2 * 11 = 22\n",
            "--------------------\n",
            "3 * 1 = 3\n",
            "3 * 2 = 6\n",
            "3 * 3 = 9\n",
            "3 * 4 = 12\n",
            "3 * 5 = 15\n",
            "3 * 6 = 18\n",
            "3 * 7 = 21\n",
            "3 * 8 = 24\n",
            "3 * 9 = 27\n",
            "3 * 10 = 30\n",
            "3 * 11 = 33\n",
            "--------------------\n",
            "4 * 1 = 4\n",
            "4 * 2 = 8\n",
            "4 * 3 = 12\n",
            "4 * 4 = 16\n",
            "4 * 5 = 20\n",
            "4 * 6 = 24\n",
            "4 * 7 = 28\n",
            "4 * 8 = 32\n",
            "4 * 9 = 36\n",
            "4 * 10 = 40\n",
            "4 * 11 = 44\n",
            "--------------------\n",
            "5 * 1 = 5\n",
            "5 * 2 = 10\n",
            "5 * 3 = 15\n",
            "5 * 4 = 20\n",
            "5 * 5 = 25\n",
            "5 * 6 = 30\n",
            "5 * 7 = 35\n",
            "5 * 8 = 40\n",
            "5 * 9 = 45\n",
            "5 * 10 = 50\n",
            "5 * 11 = 55\n",
            "--------------------\n",
            "6 * 1 = 6\n",
            "6 * 2 = 12\n",
            "6 * 3 = 18\n",
            "6 * 4 = 24\n",
            "6 * 5 = 30\n",
            "6 * 6 = 36\n",
            "6 * 7 = 42\n",
            "6 * 8 = 48\n",
            "6 * 9 = 54\n",
            "6 * 10 = 60\n",
            "6 * 11 = 66\n",
            "--------------------\n",
            "7 * 1 = 7\n",
            "7 * 2 = 14\n",
            "7 * 3 = 21\n",
            "7 * 4 = 28\n",
            "7 * 5 = 35\n",
            "7 * 6 = 42\n",
            "7 * 7 = 49\n",
            "7 * 8 = 56\n",
            "7 * 9 = 63\n",
            "7 * 10 = 70\n",
            "7 * 11 = 77\n",
            "--------------------\n",
            "8 * 1 = 8\n",
            "8 * 2 = 16\n",
            "8 * 3 = 24\n",
            "8 * 4 = 32\n",
            "8 * 5 = 40\n",
            "8 * 6 = 48\n",
            "8 * 7 = 56\n",
            "8 * 8 = 64\n",
            "8 * 9 = 72\n",
            "8 * 10 = 80\n",
            "8 * 11 = 88\n",
            "--------------------\n",
            "9 * 1 = 9\n",
            "9 * 2 = 18\n",
            "9 * 3 = 27\n",
            "9 * 4 = 36\n",
            "9 * 5 = 45\n",
            "9 * 6 = 54\n",
            "9 * 7 = 63\n",
            "9 * 8 = 72\n",
            "9 * 9 = 81\n",
            "9 * 10 = 90\n",
            "9 * 11 = 99\n",
            "--------------------\n",
            "10 * 1 = 10\n",
            "10 * 2 = 20\n",
            "10 * 3 = 30\n",
            "10 * 4 = 40\n",
            "10 * 5 = 50\n",
            "10 * 6 = 60\n",
            "10 * 7 = 70\n",
            "10 * 8 = 80\n",
            "10 * 9 = 90\n",
            "10 * 10 = 100\n",
            "10 * 11 = 110\n",
            "--------------------\n",
            "11 * 1 = 11\n",
            "11 * 2 = 22\n",
            "11 * 3 = 33\n",
            "11 * 4 = 44\n",
            "11 * 5 = 55\n",
            "11 * 6 = 66\n",
            "11 * 7 = 77\n",
            "11 * 8 = 88\n",
            "11 * 9 = 99\n",
            "11 * 10 = 110\n",
            "11 * 11 = 121\n",
            "--------------------\n",
            "-----------------------\n"
          ]
        }
      ]
    },
    {
      "cell_type": "code",
      "source": [
        "# ลูปแสดงผลแม่สูตรคูณตั้งแต่ 1 ถึง 12\n",
        "for sootcoon in range(1, 13):\n",
        "  # ลูปแม่สูตรคูณตั้งแต่ 1 ถึง 12\n",
        "    print(f\"แม่สูตรคูณ {sootcoon}\")\n",
        "    print('-------------------')\n",
        "  # ลูปแสดงผลสูตรคูณของแม่ที่เลือก\n",
        "    for x in range(1, 11):\n",
        "  # ตั้งแต่ 1 ถึง 10\n",
        "     print(f\"{sootcoon} x {x} = {sootcoon * x}\")\n",
        "  # ขึ้นบรรทัดใหม่หลังจากแสดงสูตรคูณของแต่ละแม่\n",
        "    print()"
      ],
      "metadata": {
        "colab": {
          "base_uri": "https://localhost:8080/"
        },
        "id": "B_sZU1RGy2Kg",
        "outputId": "ab1363ab-f803-4f7a-a5db-a3b25d45d78d"
      },
      "execution_count": 32,
      "outputs": [
        {
          "output_type": "stream",
          "name": "stdout",
          "text": [
            "แม่สูตรคูณ 1\n",
            "-------------------\n",
            "1 x 1 = 1\n",
            "1 x 2 = 2\n",
            "1 x 3 = 3\n",
            "1 x 4 = 4\n",
            "1 x 5 = 5\n",
            "1 x 6 = 6\n",
            "1 x 7 = 7\n",
            "1 x 8 = 8\n",
            "1 x 9 = 9\n",
            "1 x 10 = 10\n",
            "\n",
            "แม่สูตรคูณ 2\n",
            "-------------------\n",
            "2 x 1 = 2\n",
            "2 x 2 = 4\n",
            "2 x 3 = 6\n",
            "2 x 4 = 8\n",
            "2 x 5 = 10\n",
            "2 x 6 = 12\n",
            "2 x 7 = 14\n",
            "2 x 8 = 16\n",
            "2 x 9 = 18\n",
            "2 x 10 = 20\n",
            "\n",
            "แม่สูตรคูณ 3\n",
            "-------------------\n",
            "3 x 1 = 3\n",
            "3 x 2 = 6\n",
            "3 x 3 = 9\n",
            "3 x 4 = 12\n",
            "3 x 5 = 15\n",
            "3 x 6 = 18\n",
            "3 x 7 = 21\n",
            "3 x 8 = 24\n",
            "3 x 9 = 27\n",
            "3 x 10 = 30\n",
            "\n",
            "แม่สูตรคูณ 4\n",
            "-------------------\n",
            "4 x 1 = 4\n",
            "4 x 2 = 8\n",
            "4 x 3 = 12\n",
            "4 x 4 = 16\n",
            "4 x 5 = 20\n",
            "4 x 6 = 24\n",
            "4 x 7 = 28\n",
            "4 x 8 = 32\n",
            "4 x 9 = 36\n",
            "4 x 10 = 40\n",
            "\n",
            "แม่สูตรคูณ 5\n",
            "-------------------\n",
            "5 x 1 = 5\n",
            "5 x 2 = 10\n",
            "5 x 3 = 15\n",
            "5 x 4 = 20\n",
            "5 x 5 = 25\n",
            "5 x 6 = 30\n",
            "5 x 7 = 35\n",
            "5 x 8 = 40\n",
            "5 x 9 = 45\n",
            "5 x 10 = 50\n",
            "\n",
            "แม่สูตรคูณ 6\n",
            "-------------------\n",
            "6 x 1 = 6\n",
            "6 x 2 = 12\n",
            "6 x 3 = 18\n",
            "6 x 4 = 24\n",
            "6 x 5 = 30\n",
            "6 x 6 = 36\n",
            "6 x 7 = 42\n",
            "6 x 8 = 48\n",
            "6 x 9 = 54\n",
            "6 x 10 = 60\n",
            "\n",
            "แม่สูตรคูณ 7\n",
            "-------------------\n",
            "7 x 1 = 7\n",
            "7 x 2 = 14\n",
            "7 x 3 = 21\n",
            "7 x 4 = 28\n",
            "7 x 5 = 35\n",
            "7 x 6 = 42\n",
            "7 x 7 = 49\n",
            "7 x 8 = 56\n",
            "7 x 9 = 63\n",
            "7 x 10 = 70\n",
            "\n",
            "แม่สูตรคูณ 8\n",
            "-------------------\n",
            "8 x 1 = 8\n",
            "8 x 2 = 16\n",
            "8 x 3 = 24\n",
            "8 x 4 = 32\n",
            "8 x 5 = 40\n",
            "8 x 6 = 48\n",
            "8 x 7 = 56\n",
            "8 x 8 = 64\n",
            "8 x 9 = 72\n",
            "8 x 10 = 80\n",
            "\n",
            "แม่สูตรคูณ 9\n",
            "-------------------\n",
            "9 x 1 = 9\n",
            "9 x 2 = 18\n",
            "9 x 3 = 27\n",
            "9 x 4 = 36\n",
            "9 x 5 = 45\n",
            "9 x 6 = 54\n",
            "9 x 7 = 63\n",
            "9 x 8 = 72\n",
            "9 x 9 = 81\n",
            "9 x 10 = 90\n",
            "\n",
            "แม่สูตรคูณ 10\n",
            "-------------------\n",
            "10 x 1 = 10\n",
            "10 x 2 = 20\n",
            "10 x 3 = 30\n",
            "10 x 4 = 40\n",
            "10 x 5 = 50\n",
            "10 x 6 = 60\n",
            "10 x 7 = 70\n",
            "10 x 8 = 80\n",
            "10 x 9 = 90\n",
            "10 x 10 = 100\n",
            "\n",
            "แม่สูตรคูณ 11\n",
            "-------------------\n",
            "11 x 1 = 11\n",
            "11 x 2 = 22\n",
            "11 x 3 = 33\n",
            "11 x 4 = 44\n",
            "11 x 5 = 55\n",
            "11 x 6 = 66\n",
            "11 x 7 = 77\n",
            "11 x 8 = 88\n",
            "11 x 9 = 99\n",
            "11 x 10 = 110\n",
            "\n",
            "แม่สูตรคูณ 12\n",
            "-------------------\n",
            "12 x 1 = 12\n",
            "12 x 2 = 24\n",
            "12 x 3 = 36\n",
            "12 x 4 = 48\n",
            "12 x 5 = 60\n",
            "12 x 6 = 72\n",
            "12 x 7 = 84\n",
            "12 x 8 = 96\n",
            "12 x 9 = 108\n",
            "12 x 10 = 120\n",
            "\n"
          ]
        }
      ]
    },
    {
      "cell_type": "code",
      "source": [
        "import requests\n",
        "# URL ของ API สำหรับดึงข้อมูลราคาบิตคอยน์\n",
        "url = 'https://api.coingecko.com/api/v3/simple/price?ids=bitcoin&vs_currencies=usd'\n",
        "# ส่งคำขอไปยัง API\n",
        "response = requests.get(url)\n",
        "# ตรวจสอบว่าคำขอสำเร็จหรือไม่\n",
        "if response.status_code == 200:\n",
        "  data = response.json()\n",
        "# แปลงข้อมูลที่ได้รับเป็น JSON\n",
        "# ดึงราคาบิตคอยน์ในหน่วย USD\n",
        "  bitcoin_price = data['bitcoin']['usd']\n",
        "  print(f\"ราคาบิตคอยน์ตอนนี้คือ ${bitcoin_price} USD\")\n",
        "else:\n",
        "   print(\"ไม่สามารถดึงข้อมูลได้ กรุณาลองใหม่อีกครั้ง\")"
      ],
      "metadata": {
        "colab": {
          "base_uri": "https://localhost:8080/"
        },
        "id": "CHi_rkw2z4zR",
        "outputId": "a24a25a3-0d66-4252-d9f9-18e6338939ff"
      },
      "execution_count": 33,
      "outputs": [
        {
          "output_type": "stream",
          "name": "stdout",
          "text": [
            "ราคาบิตคอยน์ตอนนี้คือ $93389 USD\n"
          ]
        }
      ]
    }
  ]
}