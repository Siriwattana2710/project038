{
  "nbformat": 4,
  "nbformat_minor": 0,
  "metadata": {
    "colab": {
      "provenance": [],
      "authorship_tag": "ABX9TyO6JNf1P1mYsvH0lHizipdf",
      "include_colab_link": true
    },
    "kernelspec": {
      "name": "python3",
      "display_name": "Python 3"
    },
    "language_info": {
      "name": "python"
    }
  },
  "cells": [
    {
      "cell_type": "markdown",
      "metadata": {
        "id": "view-in-github",
        "colab_type": "text"
      },
      "source": [
        "<a href=\"https://colab.research.google.com/github/Siriwattana2710/project038/blob/main/Ex01.ipynb\" target=\"_parent\"><img src=\"https://colab.research.google.com/assets/colab-badge.svg\" alt=\"Open In Colab\"/></a>"
      ]
    },
    {
      "cell_type": "code",
      "execution_count": null,
      "metadata": {
        "id": "pPYi5UKITjxT"
      },
      "outputs": [],
      "source": [
        "#อบรม python วันที่ 27 พย. 67\n",
        "#654245038 นางสาวศิริวัฒนา รักแตง หมู่เรียน 65/39\n"
      ]
    },
    {
      "cell_type": "code",
      "source": [
        "#ทดสอบรับค่า input\n",
        "name = input (\"กรุณากรอกชื่อ : \")\n",
        "print(\"ยินดีต้อนรับคุณ\"+name)"
      ],
      "metadata": {
        "colab": {
          "base_uri": "https://localhost:8080/"
        },
        "collapsed": true,
        "id": "0-KQr2HGUVhz",
        "outputId": "43d0b6ac-576f-47c3-ac5e-5fb02feb1922"
      },
      "execution_count": 3,
      "outputs": [
        {
          "output_type": "stream",
          "name": "stdout",
          "text": [
            "กรุณากรอกชื่อ : siriwattana\n",
            "ยินดีต้อนรับคุณsiriwattana\n"
          ]
        }
      ]
    },
    {
      "cell_type": "code",
      "source": [
        "#ทดสอบรับค่า มาเพื่อทำการคำนวณ\n",
        "num1 = int (input('ตัวเลขแรก :'))\n",
        "num2 = int (input('ตัวเลขที่สอง :'))\n",
        "total=num1+num2\n",
        "print(\"ผลการบวก เท่ากับ \"+str(total))"
      ],
      "metadata": {
        "colab": {
          "base_uri": "https://localhost:8080/"
        },
        "id": "gS-TfvWpVQ6r",
        "outputId": "3e5e2642-08d1-4a43-eb5e-c3ec9439c122"
      },
      "execution_count": 7,
      "outputs": [
        {
          "output_type": "stream",
          "name": "stdout",
          "text": [
            "ตัวเลขแรก :10\n",
            "ตัวเลขที่สอง :5\n",
            "ผลการบวก เท่ากับ 15\n"
          ]
        }
      ]
    },
    {
      "cell_type": "code",
      "source": [
        "#ให้รับค่า เข้ามาเพื่อคำนวณค่า BMI\n",
        "# Boby Mass Index (BMI) มีสูตรการคำนวณ = น้ำหนักตัว [Kg] / (ส่วนสูง[m] ยกกำลังสอง)\n",
        "#กำหนดรับค่า input น้ำหนักตัว กับ ส่วนสูง\n",
        "weigth = float(input(\"กรุณากรอกค่าน้เำหนัก กิโลกรัม :\"))\n",
        "height = float(input(\"กรุณากรอกค่าส่วนสูง ซม : \"))\n",
        "height = height/100\n",
        "total = weigth / (height*height)\n",
        "print(\"BMI is :  \"+str(total))\n"
      ],
      "metadata": {
        "colab": {
          "base_uri": "https://localhost:8080/"
        },
        "id": "X7zYLiB5Z_gx",
        "outputId": "273b0cee-111e-405c-ca5e-94c31308d8dd"
      },
      "execution_count": 9,
      "outputs": [
        {
          "output_type": "stream",
          "name": "stdout",
          "text": [
            "กรุณากรอกค่าน้เำหนัก กิโลกรัม :95\n",
            "กรุณากรอกค่าส่วนสูง ซม : 170\n",
            "BMI is :  32.871972318339104\n"
          ]
        }
      ]
    },
    {
      "cell_type": "code",
      "source": [
        "W = float(input(\"กรุณากรอกความกว้างของพื้นที่ เมตร :\"))\n",
        "L = float(input(\"กรุณากรอกความยาวของพื้นที่ เมตร :\"))\n",
        "H = float(input(\"กรุณากรอกความหนาของพื้นที่ต้องการ เซนติเมตร :\"))\n",
        "\n",
        "total = W*"
      ],
      "metadata": {
        "id": "VjN0GlPgeoM_"
      },
      "execution_count": null,
      "outputs": []
    },
    {
      "cell_type": "code",
      "source": [
        "a=70\n",
        "b=50\n",
        "if a>b:\n",
        "  print(\"a มากกว่า b\")\n",
        "else:\n",
        "  print(\"a น้อยกว่า b\")"
      ],
      "metadata": {
        "colab": {
          "base_uri": "https://localhost:8080/"
        },
        "id": "Sy64BVCykRUu",
        "outputId": "d7b5e671-da5c-40a9-fb38-44e27425f28a"
      },
      "execution_count": 14,
      "outputs": [
        {
          "output_type": "stream",
          "name": "stdout",
          "text": [
            "a มากกว่า b\n"
          ]
        }
      ]
    },
    {
      "cell_type": "code",
      "source": [
        "#ให้รับค่า เข้ามาเพื่อคำนวณค่า BMI\n",
        "# Boby Mass Index (BMI) มีสูตรการคำนวณ = น้ำหนักตัว [Kg] / (ส่วนสูง[m] ยกกำลังสอง)\n",
        "#กำหนดรับค่า input น้ำหนักตัว กับ ส่วนสูง\n",
        "weigth = float(input(\"กรุณากรอกค่าน้เำหนัก กิโลกรัม :\"))\n",
        "height = float(input(\"กรุณากรอกค่าส่วนสูง ซม : \"))\n",
        "height = height/100\n",
        "total = weigth / (height*height)\n",
        "print(\"BMI is :  \"+str(total))\n"
      ],
      "metadata": {
        "id": "3vDJcJdKlz0U"
      },
      "execution_count": null,
      "outputs": []
    }
  ]
}